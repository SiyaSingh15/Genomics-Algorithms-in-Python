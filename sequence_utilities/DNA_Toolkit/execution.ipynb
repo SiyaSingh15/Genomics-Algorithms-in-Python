{
 "cells": [
  {
   "cell_type": "code",
   "execution_count": 35,
   "id": "ec135189",
   "metadata": {},
   "outputs": [
    {
     "data": {
      "text/plain": [
       "<module 'Toolkit' from 'c:\\\\Users\\\\siyas\\\\OneDrive\\\\ドキュメント\\\\GitHub\\\\Genomics-Algorithms-in-Python\\\\sequence_utilities\\\\DNA_Toolkit\\\\Toolkit.py'>"
      ]
     },
     "execution_count": 35,
     "metadata": {},
     "output_type": "execute_result"
    }
   ],
   "source": [
    "import sys\n",
    "import random\n",
    "\n",
    "# Fix path (only two levels up from execution.ipynb to test_data)\n",
    "sys.path.append('../../test_data')\n",
    "\n",
    "from utilities import *\n",
    "from basic_data import *\n",
    "\n",
    "import importlib\n",
    "import utilities\n",
    "importlib.reload(utilities)\n",
    "import Toolkit\n",
    "importlib.reload(Toolkit)"
   ]
  },
  {
   "cell_type": "code",
   "execution_count": 36,
   "id": "ed8675d6",
   "metadata": {},
   "outputs": [],
   "source": [
    "randDNAstr = ''.join([random.choice(Nucleotides) for nuc in range(50)])"
   ]
  },
  {
   "cell_type": "code",
   "execution_count": 37,
   "id": "c95d4990",
   "metadata": {},
   "outputs": [],
   "source": [
    "DNAstr = Toolkit.validateSeq(randDNAstr)\n",
    "Transcript = Toolkit.transcription(DNAstr)\n",
    "Complementary = Toolkit.complement(DNAstr)\n",
    "RevComplementary = Toolkit.revcomplement2(DNAstr)"
   ]
  },
  {
   "cell_type": "code",
   "execution_count": 38,
   "id": "6d2b0f6c",
   "metadata": {},
   "outputs": [
    {
     "name": "stdout",
     "output_type": "stream",
     "text": [
      "\n",
      "Sequence: \u001b[93mG\u001b[93mG\u001b[94mC\u001b[94mC\u001b[91mT\u001b[91mT\u001b[94mC\u001b[92mA\u001b[91mT\u001b[93mG\u001b[93mG\u001b[93mG\u001b[92mA\u001b[94mC\u001b[93mG\u001b[93mG\u001b[93mG\u001b[92mA\u001b[92mA\u001b[92mA\u001b[94mC\u001b[93mG\u001b[93mG\u001b[94mC\u001b[91mT\u001b[94mC\u001b[91mT\u001b[93mG\u001b[92mA\u001b[94mC\u001b[92mA\u001b[93mG\u001b[91mT\u001b[93mG\u001b[93mG\u001b[92mA\u001b[91mT\u001b[93mG\u001b[93mG\u001b[94mC\u001b[94mC\u001b[94mC\u001b[93mG\u001b[91mT\u001b[94mC\u001b[94mC\u001b[91mT\u001b[93mG\u001b[94mC\u001b[94mC\u001b[0;0m\n",
      "\n",
      "[1]  Sequence Length: 50\n",
      "\n",
      "\u001b[0;0m[\u001b[0;0m2\u001b[0;0m]\u001b[0;0m \u001b[0;0m \u001b[0;0mN\u001b[0;0mu\u001b[0;0mc\u001b[0;0ml\u001b[0;0me\u001b[0;0mo\u001b[0;0mt\u001b[0;0mi\u001b[0;0md\u001b[0;0me\u001b[0;0m \u001b[0;0mF\u001b[0;0mr\u001b[0;0me\u001b[0;0mq\u001b[0;0mu\u001b[0;0me\u001b[0;0mn\u001b[0;0mc\u001b[0;0my\u001b[0;0m:\u001b[0;0m \u001b[0;0m{\u001b[0;0m'\u001b[92mA\u001b[0;0m'\u001b[0;0m:\u001b[0;0m \u001b[0;0m8\u001b[0;0m,\u001b[0;0m \u001b[0;0m'\u001b[94mC\u001b[0;0m'\u001b[0;0m:\u001b[0;0m \u001b[0;0m1\u001b[0;0m5\u001b[0;0m,\u001b[0;0m \u001b[0;0m'\u001b[93mG\u001b[0;0m'\u001b[0;0m:\u001b[0;0m \u001b[0;0m1\u001b[0;0m8\u001b[0;0m,\u001b[0;0m \u001b[0;0m'\u001b[91mT\u001b[0;0m'\u001b[0;0m:\u001b[0;0m \u001b[0;0m9\u001b[0;0m}\u001b[0;0m\n",
      "\u001b[0;0m\n",
      "[3]  Transcript: \u001b[93mG\u001b[93mG\u001b[94mC\u001b[94mC\u001b[91mU\u001b[91mU\u001b[94mC\u001b[92mA\u001b[91mU\u001b[93mG\u001b[93mG\u001b[93mG\u001b[92mA\u001b[94mC\u001b[93mG\u001b[93mG\u001b[93mG\u001b[92mA\u001b[92mA\u001b[92mA\u001b[94mC\u001b[93mG\u001b[93mG\u001b[94mC\u001b[91mU\u001b[94mC\u001b[91mU\u001b[93mG\u001b[92mA\u001b[94mC\u001b[92mA\u001b[93mG\u001b[91mU\u001b[93mG\u001b[93mG\u001b[92mA\u001b[91mU\u001b[93mG\u001b[93mG\u001b[94mC\u001b[94mC\u001b[94mC\u001b[93mG\u001b[91mU\u001b[94mC\u001b[94mC\u001b[91mU\u001b[93mG\u001b[94mC\u001b[94mC\u001b[0;0m\n",
      "\n",
      "[4]  Reverse Complement: \u001b[93mG\u001b[93mG\u001b[94mC\u001b[92mA\u001b[93mG\u001b[93mG\u001b[92mA\u001b[94mC\u001b[93mG\u001b[93mG\u001b[93mG\u001b[94mC\u001b[94mC\u001b[92mA\u001b[91mT\u001b[94mC\u001b[94mC\u001b[92mA\u001b[94mC\u001b[91mT\u001b[93mG\u001b[91mT\u001b[94mC\u001b[92mA\u001b[93mG\u001b[92mA\u001b[93mG\u001b[94mC\u001b[94mC\u001b[93mG\u001b[91mT\u001b[91mT\u001b[91mT\u001b[94mC\u001b[94mC\u001b[94mC\u001b[93mG\u001b[91mT\u001b[94mC\u001b[94mC\u001b[94mC\u001b[92mA\u001b[91mT\u001b[93mG\u001b[92mA\u001b[92mA\u001b[93mG\u001b[93mG\u001b[94mC\u001b[94mC\u001b[0;0m\n",
      "\n",
      "[5]  DNA string + Reverse Complement:\n",
      "\n",
      "     5' \u001b[93mG\u001b[93mG\u001b[94mC\u001b[94mC\u001b[91mT\u001b[91mT\u001b[94mC\u001b[92mA\u001b[91mT\u001b[93mG\u001b[93mG\u001b[93mG\u001b[92mA\u001b[94mC\u001b[93mG\u001b[93mG\u001b[93mG\u001b[92mA\u001b[92mA\u001b[92mA\u001b[94mC\u001b[93mG\u001b[93mG\u001b[94mC\u001b[91mT\u001b[94mC\u001b[91mT\u001b[93mG\u001b[92mA\u001b[94mC\u001b[92mA\u001b[93mG\u001b[91mT\u001b[93mG\u001b[93mG\u001b[92mA\u001b[91mT\u001b[93mG\u001b[93mG\u001b[94mC\u001b[94mC\u001b[94mC\u001b[93mG\u001b[91mT\u001b[94mC\u001b[94mC\u001b[91mT\u001b[93mG\u001b[94mC\u001b[94mC\u001b[0;0m 3' [Template Strand]\n",
      "        ||||||||||||||||||||||||||||||||||||||||||||||||||\n",
      "     3' \u001b[94mC\u001b[94mC\u001b[93mG\u001b[93mG\u001b[92mA\u001b[92mA\u001b[93mG\u001b[91mT\u001b[92mA\u001b[94mC\u001b[94mC\u001b[94mC\u001b[91mT\u001b[93mG\u001b[94mC\u001b[94mC\u001b[94mC\u001b[91mT\u001b[91mT\u001b[91mT\u001b[93mG\u001b[94mC\u001b[94mC\u001b[93mG\u001b[92mA\u001b[93mG\u001b[92mA\u001b[94mC\u001b[91mT\u001b[93mG\u001b[91mT\u001b[94mC\u001b[92mA\u001b[94mC\u001b[94mC\u001b[91mT\u001b[92mA\u001b[94mC\u001b[94mC\u001b[93mG\u001b[93mG\u001b[93mG\u001b[94mC\u001b[92mA\u001b[93mG\u001b[93mG\u001b[92mA\u001b[94mC\u001b[93mG\u001b[93mG\u001b[0;0m 5' [Complementary RNA Strand]\n",
      "\n",
      "     5' \u001b[93mG\u001b[93mG\u001b[94mC\u001b[92mA\u001b[93mG\u001b[93mG\u001b[92mA\u001b[94mC\u001b[93mG\u001b[93mG\u001b[93mG\u001b[94mC\u001b[94mC\u001b[92mA\u001b[91mT\u001b[94mC\u001b[94mC\u001b[92mA\u001b[94mC\u001b[91mT\u001b[93mG\u001b[91mT\u001b[94mC\u001b[92mA\u001b[93mG\u001b[92mA\u001b[93mG\u001b[94mC\u001b[94mC\u001b[93mG\u001b[91mT\u001b[91mT\u001b[91mT\u001b[94mC\u001b[94mC\u001b[94mC\u001b[93mG\u001b[91mT\u001b[94mC\u001b[94mC\u001b[94mC\u001b[92mA\u001b[91mT\u001b[93mG\u001b[92mA\u001b[92mA\u001b[93mG\u001b[93mG\u001b[94mC\u001b[94mC\u001b[0;0m 3' [Reverse Complement]\n",
      "\n",
      "[6]  GC Content: 66%\n",
      "\n",
      "[7]  GC Content in subsection k=5: [80, 40, 80, 40, 80, 60, 60, 60, 80, 80]\n",
      "\n",
      "[8]  Amino Acid sequence from DNA: ['G', 'L', 'H', 'G', 'T', 'G', 'N', 'G', 'S', 'D', 'S', 'G', 'W', 'P', 'V', 'L']\n",
      "\n",
      "[9]  Codon Frequency: {}\n",
      "\n"
     ]
    }
   ],
   "source": [
    "\n",
    "print(f'\\nSequence: {utilities.colored(DNAstr)}\\n')\n",
    "print(f'[1]  Sequence Length: {len(DNAstr)}\\n')\n",
    "print(colored(f'[2]  Nucleotide Frequency: {Toolkit.countNucFreq1(DNAstr)}\\n'))\n",
    "print(f'[3]  Transcript: {utilities.colored(Transcript)}\\n')\n",
    "print(f'[4]  Reverse Complement: {utilities.colored(RevComplementary)}\\n')\n",
    "print(f\"[5]  DNA string + Reverse Complement:\\n\\n     5' {utilities.colored(DNAstr)} 3' [Template Strand]\")\n",
    "print(f\"        {''.join('|' for c in range(len(DNAstr)))}\")\n",
    "print(f\"     3' {utilities.colored(Complementary)} 5' [Complementary RNA Strand]\\n\")\n",
    "print(f\"     5' {utilities.colored(RevComplementary)} 3' [Reverse Complement]\\n\")\n",
    "print(f'[6]  GC Content: {Toolkit.gc_content1(DNAstr)}%\\n')\n",
    "print(f\"[7]  GC Content in subsection k=5: {Toolkit.gc_subset(DNAstr, k=5)}\\n\")\n",
    "print(f'[8]  Amino Acid sequence from DNA: {Toolkit.translate_seq(DNAstr, 0)}\\n')\n",
    "print(f'[9]  Codon Frequency: {Toolkit.codon_freq(DNAstr, \"M\")}\\n')"
   ]
  }
 ],
 "metadata": {
  "kernelspec": {
   "display_name": "base",
   "language": "python",
   "name": "python3"
  },
  "language_info": {
   "codemirror_mode": {
    "name": "ipython",
    "version": 3
   },
   "file_extension": ".py",
   "mimetype": "text/x-python",
   "name": "python",
   "nbconvert_exporter": "python",
   "pygments_lexer": "ipython3",
   "version": "3.13.5"
  }
 },
 "nbformat": 4,
 "nbformat_minor": 5
}
