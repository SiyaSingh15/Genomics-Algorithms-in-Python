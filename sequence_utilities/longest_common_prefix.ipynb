{
 "cells": [
  {
   "cell_type": "code",
   "execution_count": 1,
   "id": "9399478c",
   "metadata": {},
   "outputs": [
    {
     "data": {
      "text/plain": [
       "'ACCA'"
      ]
     },
     "execution_count": 1,
     "metadata": {},
     "output_type": "execute_result"
    }
   ],
   "source": [
    "def longestCommonPrefix(s1, s2):\n",
    "    i = 0\n",
    "    while i < len(s1) and i < len(s2) and s1[i] == s2[i]:\n",
    "        i += 1\n",
    "    return s1[:i]\n",
    "longestCommonPrefix('ACCATTG', 'ACCAAGTC')"
   ]
  }
 ],
 "metadata": {
  "kernelspec": {
   "display_name": "base",
   "language": "python",
   "name": "python3"
  },
  "language_info": {
   "codemirror_mode": {
    "name": "ipython",
    "version": 3
   },
   "file_extension": ".py",
   "mimetype": "text/x-python",
   "name": "python",
   "nbconvert_exporter": "python",
   "pygments_lexer": "ipython3",
   "version": "3.13.5"
  }
 },
 "nbformat": 4,
 "nbformat_minor": 5
}
