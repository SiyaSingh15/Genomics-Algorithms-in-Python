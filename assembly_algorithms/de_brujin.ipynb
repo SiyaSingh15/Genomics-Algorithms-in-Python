{
 "cells": [
  {
   "cell_type": "code",
   "execution_count": 1,
   "metadata": {},
   "outputs": [
    {
     "data": {
      "text/plain": [
       "{'AC', 'CG', 'GC', 'GT', 'TC'}"
      ]
     },
     "execution_count": 1,
     "metadata": {},
     "output_type": "execute_result"
    }
   ],
   "source": [
    "def de_bruijn_ize(st, k):\n",
    "    \"\"\" Return a list holding, for each k-mer, its left k-1-mer and its right k-1-mer in a pair \"\"\"\n",
    "\n",
    "    # The string 'st' = DNA sequence \n",
    "    # 'k' = length of the k-mers (subsequences)\n",
    "    \n",
    "    # 'edges' = store the connections in our graph.\n",
    "    # Each edge = a k-mer from the DNA sequence.\n",
    "    edges = []\n",
    "    \n",
    "    # 'nodes' = (k-1)-mers\n",
    "    #  set is used because each (k-1)-mer should only appear once as a node.\n",
    "    nodes = set()\n",
    "    \n",
    "    # 'i' = starting position of each k-mer.\n",
    "    # The range ensures we stop at the last possible starting position for a k-mer.\n",
    "    for i in range(len(st) - k + 1):\n",
    "        \n",
    "        # Extracting k-mer from the sequence.\n",
    "        k_mer = st[i:i+k]\n",
    "        \n",
    "        # left k-1-mer is the prefix of the k-mer (starting node of our edge in the De Bruijn graph).\n",
    "        left_k1_mer = st[i:i+k-1]\n",
    "        \n",
    "        # right k-1-mer is the suffix of the k-mer (ending node of our edge).\n",
    "        right_k1_mer = st[i+1:i+k]\n",
    "        \n",
    "        # This edge represents the k-mer, connecting its prefix to its suffix.\n",
    "        edges.append((left_k1_mer, right_k1_mer))\n",
    "        \n",
    "        # add both the prefix and suffix to our set of nodes.\n",
    "        nodes.add(left_k1_mer)\n",
    "        nodes.add(right_k1_mer)\n",
    "        \n",
    "    # This function returns the set of all unique nodes and the list of all edges.\n",
    "    # these two components are then used to build the complete graph from all the reads.\n",
    "    # then find an Eulerian path to reconstruct the full genome sequence.\n",
    "    return nodes, edges"
   ]
  },
  {
   "cell_type": "code",
   "execution_count": 5,
   "metadata": {},
   "outputs": [],
   "source": [
    "nodes, edges = de_bruijn_ize(\"AAGCTGCTGAGCTGGGCTAG\", 3)"
   ]
  },
  {
   "cell_type": "code",
   "execution_count": 6,
   "metadata": {},
   "outputs": [
    {
     "data": {
      "text/plain": [
       "{'AA', 'AG', 'CT', 'GA', 'GC', 'GG', 'TA', 'TG'}"
      ]
     },
     "execution_count": 6,
     "metadata": {},
     "output_type": "execute_result"
    }
   ],
   "source": [
    "nodes"
   ]
  },
  {
   "cell_type": "code",
   "execution_count": 7,
   "metadata": {},
   "outputs": [
    {
     "data": {
      "text/plain": [
       "[('AA', 'AG'),\n",
       " ('AG', 'GC'),\n",
       " ('GC', 'CT'),\n",
       " ('CT', 'TG'),\n",
       " ('TG', 'GC'),\n",
       " ('GC', 'CT'),\n",
       " ('CT', 'TG'),\n",
       " ('TG', 'GA'),\n",
       " ('GA', 'AG'),\n",
       " ('AG', 'GC'),\n",
       " ('GC', 'CT'),\n",
       " ('CT', 'TG'),\n",
       " ('TG', 'GG'),\n",
       " ('GG', 'GG'),\n",
       " ('GG', 'GC'),\n",
       " ('GC', 'CT'),\n",
       " ('CT', 'TA'),\n",
       " ('TA', 'AG')]"
      ]
     },
     "execution_count": 7,
     "metadata": {},
     "output_type": "execute_result"
    }
   ],
   "source": [
    "edges"
   ]
  },
  {
   "cell_type": "code",
   "execution_count": 8,
   "metadata": {},
   "outputs": [],
   "source": [
    "def visualize_de_bruijn(st, k):\n",
    "    \"\"\" Visualize a directed multigraph using graphviz \"\"\"\n",
    "    \n",
    "    # used to create a visualization of the De Bruijn graph.\n",
    "\n",
    "    nodes, edges = de_bruijn_ize(st, k)\n",
    "    \n",
    "    # 'dot_str' = graph description in DOT language (format used by the Graphviz visualization tool.)\n",
    "    dot_str = 'digraph \"DeBruijn graph\" {\\n'\n",
    "    \n",
    "    # For each node, this loop adds a line to the DOT string that defines the node's label.\n",
    "    for node in nodes:\n",
    "        dot_str += '  %s [label=\"%s\"] ;\\n' % (node, node)\n",
    "\n",
    "    # For each edge (k-mer), it adds a line to the DOT string to define a directed connection.\n",
    "    for src, dst in edges:\n",
    "        dot_str += '  %s -> %s ;\\n' % (src, dst)\n",
    "        \n",
    "    return dot_str + '}\\n'"
   ]
  },
  {
   "cell_type": "code",
   "execution_count": 9,
   "metadata": {},
   "outputs": [],
   "source": [
    "%load_ext gvmagic"
   ]
  },
  {
   "cell_type": "code",
   "execution_count": 10,
   "metadata": {},
   "outputs": [
    {
     "data": {
      "image/svg+xml": [
       "<svg height=\"404pt\" viewBox=\"0.00 0.00 197.11 404.00\" width=\"197pt\" xmlns=\"http://www.w3.org/2000/svg\" xmlns:xlink=\"http://www.w3.org/1999/xlink\">\n",
       "<g class=\"graph\" id=\"graph0\" transform=\"scale(1 1) rotate(0) translate(4 400)\">\n",
       "<title>DeBruijn graph</title>\n",
       "<polygon fill=\"#ffffff\" points=\"-4,4 -4,-400 193.1109,-400 193.1109,4 -4,4\" stroke=\"transparent\"/>\n",
       "<!-- AA -->\n",
       "<g class=\"node\" id=\"node1\">\n",
       "<title>AA</title>\n",
       "<ellipse cx=\"57.1109\" cy=\"-378\" fill=\"none\" rx=\"27\" ry=\"18\" stroke=\"#000000\"/>\n",
       "<text fill=\"#000000\" font-family=\"Times,serif\" font-size=\"14.00\" text-anchor=\"middle\" x=\"57.1109\" y=\"-374.3\">AA</text>\n",
       "</g>\n",
       "<!-- AG -->\n",
       "<g class=\"node\" id=\"node8\">\n",
       "<title>AG</title>\n",
       "<ellipse cx=\"57.1109\" cy=\"-306\" fill=\"none\" rx=\"27\" ry=\"18\" stroke=\"#000000\"/>\n",
       "<text fill=\"#000000\" font-family=\"Times,serif\" font-size=\"14.00\" text-anchor=\"middle\" x=\"57.1109\" y=\"-302.3\">AG</text>\n",
       "</g>\n",
       "<!-- AA&#45;&gt;AG -->\n",
       "<g class=\"edge\" id=\"edge1\">\n",
       "<title>AA-&gt;AG</title>\n",
       "<path d=\"M57.1109,-359.8314C57.1109,-352.131 57.1109,-342.9743 57.1109,-334.4166\" fill=\"none\" stroke=\"#000000\"/>\n",
       "<polygon fill=\"#000000\" points=\"60.611,-334.4132 57.1109,-324.4133 53.611,-334.4133 60.611,-334.4132\" stroke=\"#000000\"/>\n",
       "</g>\n",
       "<!-- GG -->\n",
       "<g class=\"node\" id=\"node2\">\n",
       "<title>GG</title>\n",
       "<ellipse cx=\"144.1109\" cy=\"-18\" fill=\"none\" rx=\"27\" ry=\"18\" stroke=\"#000000\"/>\n",
       "<text fill=\"#000000\" font-family=\"Times,serif\" font-size=\"14.00\" text-anchor=\"middle\" x=\"144.1109\" y=\"-14.3\">GG</text>\n",
       "</g>\n",
       "<!-- GG&#45;&gt;GG -->\n",
       "<g class=\"edge\" id=\"edge14\">\n",
       "<title>GG-&gt;GG</title>\n",
       "<path d=\"M164.0059,-30.4321C176.7989,-33.6753 189.1109,-29.5313 189.1109,-18 189.1109,-9.6218 182.6115,-5.1433 174.1504,-4.5644\" fill=\"none\" stroke=\"#000000\"/>\n",
       "<polygon fill=\"#000000\" points=\"173.6128,-1.1004 164.0059,-5.5679 174.3019,-8.0665 173.6128,-1.1004\" stroke=\"#000000\"/>\n",
       "</g>\n",
       "<!-- GC -->\n",
       "<g class=\"node\" id=\"node3\">\n",
       "<title>GC</title>\n",
       "<ellipse cx=\"85.1109\" cy=\"-234\" fill=\"none\" rx=\"27\" ry=\"18\" stroke=\"#000000\"/>\n",
       "<text fill=\"#000000\" font-family=\"Times,serif\" font-size=\"14.00\" text-anchor=\"middle\" x=\"85.1109\" y=\"-230.3\">GC</text>\n",
       "</g>\n",
       "<!-- GG&#45;&gt;GC -->\n",
       "<g class=\"edge\" id=\"edge15\">\n",
       "<title>GG-&gt;GC</title>\n",
       "<path d=\"M147.634,-36.1488C152.7651,-67.3599 159.3387,-132.4284 136.1109,-180 130.0392,-192.435 120.0962,-203.9337 110.5944,-213.0959\" fill=\"none\" stroke=\"#000000\"/>\n",
       "<polygon fill=\"#000000\" points=\"108.1595,-210.5798 103.1511,-219.9161 112.8886,-215.7409 108.1595,-210.5798\" stroke=\"#000000\"/>\n",
       "</g>\n",
       "<!-- CT -->\n",
       "<g class=\"node\" id=\"node5\">\n",
       "<title>CT</title>\n",
       "<ellipse cx=\"85.1109\" cy=\"-162\" fill=\"none\" rx=\"27\" ry=\"18\" stroke=\"#000000\"/>\n",
       "<text fill=\"#000000\" font-family=\"Times,serif\" font-size=\"14.00\" text-anchor=\"middle\" x=\"85.1109\" y=\"-158.3\">CT</text>\n",
       "</g>\n",
       "<!-- GC&#45;&gt;CT -->\n",
       "<g class=\"edge\" id=\"edge3\">\n",
       "<title>GC-&gt;CT</title>\n",
       "<path d=\"M68.4649,-219.4297C64.8212,-209.9634 63.9404,-197.3888 65.8223,-186.4197\" fill=\"none\" stroke=\"#000000\"/>\n",
       "<polygon fill=\"#000000\" points=\"69.2598,-187.1142 68.4733,-176.5486 62.4993,-185.2986 69.2598,-187.1142\" stroke=\"#000000\"/>\n",
       "</g>\n",
       "<!-- GC&#45;&gt;CT -->\n",
       "<g class=\"edge\" id=\"edge6\">\n",
       "<title>GC-&gt;CT</title>\n",
       "<path d=\"M79.1952,-216.2022C78.3907,-208.1807 78.168,-198.5231 78.5271,-189.5957\" fill=\"none\" stroke=\"#000000\"/>\n",
       "<polygon fill=\"#000000\" points=\"82.0205,-189.8099 79.2158,-179.593 75.0371,-189.3289 82.0205,-189.8099\" stroke=\"#000000\"/>\n",
       "</g>\n",
       "<!-- GC&#45;&gt;CT -->\n",
       "<g class=\"edge\" id=\"edge11\">\n",
       "<title>GC-&gt;CT</title>\n",
       "<path d=\"M91.0266,-216.2022C91.831,-208.1807 92.0537,-198.5231 91.6947,-189.5957\" fill=\"none\" stroke=\"#000000\"/>\n",
       "<polygon fill=\"#000000\" points=\"95.1847,-189.3289 91.0059,-179.593 88.2012,-189.8099 95.1847,-189.3289\" stroke=\"#000000\"/>\n",
       "</g>\n",
       "<!-- GC&#45;&gt;CT -->\n",
       "<g class=\"edge\" id=\"edge16\">\n",
       "<title>GC-&gt;CT</title>\n",
       "<path d=\"M101.7568,-219.4297C105.4005,-209.9634 106.2814,-197.3888 104.3994,-186.4197\" fill=\"none\" stroke=\"#000000\"/>\n",
       "<polygon fill=\"#000000\" points=\"107.7224,-185.2986 101.7485,-176.5486 100.962,-187.1142 107.7224,-185.2986\" stroke=\"#000000\"/>\n",
       "</g>\n",
       "<!-- TG -->\n",
       "<g class=\"node\" id=\"node4\">\n",
       "<title>TG</title>\n",
       "<ellipse cx=\"111.1109\" cy=\"-90\" fill=\"none\" rx=\"27\" ry=\"18\" stroke=\"#000000\"/>\n",
       "<text fill=\"#000000\" font-family=\"Times,serif\" font-size=\"14.00\" text-anchor=\"middle\" x=\"111.1109\" y=\"-86.3\">TG</text>\n",
       "</g>\n",
       "<!-- TG&#45;&gt;GG -->\n",
       "<g class=\"edge\" id=\"edge13\">\n",
       "<title>TG-&gt;GG</title>\n",
       "<path d=\"M119.0993,-72.5708C122.95,-64.1691 127.6526,-53.9091 131.9365,-44.5623\" fill=\"none\" stroke=\"#000000\"/>\n",
       "<polygon fill=\"#000000\" points=\"135.2112,-45.8177 136.1961,-35.2687 128.8477,-42.901 135.2112,-45.8177\" stroke=\"#000000\"/>\n",
       "</g>\n",
       "<!-- TG&#45;&gt;GC -->\n",
       "<g class=\"edge\" id=\"edge5\">\n",
       "<title>TG-&gt;GC</title>\n",
       "<path d=\"M117.1507,-107.6326C122.5263,-126.0586 128.4912,-155.6245 121.1109,-180 117.8448,-190.7873 111.6345,-201.3892 105.2796,-210.3037\" fill=\"none\" stroke=\"#000000\"/>\n",
       "<polygon fill=\"#000000\" points=\"102.4824,-208.1999 99.2338,-218.2844 108.0622,-212.4268 102.4824,-208.1999\" stroke=\"#000000\"/>\n",
       "</g>\n",
       "<!-- GA -->\n",
       "<g class=\"node\" id=\"node6\">\n",
       "<title>GA</title>\n",
       "<ellipse cx=\"45.1109\" cy=\"-18\" fill=\"none\" rx=\"27\" ry=\"18\" stroke=\"#000000\"/>\n",
       "<text fill=\"#000000\" font-family=\"Times,serif\" font-size=\"14.00\" text-anchor=\"middle\" x=\"45.1109\" y=\"-14.3\">GA</text>\n",
       "</g>\n",
       "<!-- TG&#45;&gt;GA -->\n",
       "<g class=\"edge\" id=\"edge8\">\n",
       "<title>TG-&gt;GA</title>\n",
       "<path d=\"M96.7899,-74.3771C87.8816,-64.659 76.2657,-51.987 66.3034,-41.1191\" fill=\"none\" stroke=\"#000000\"/>\n",
       "<polygon fill=\"#000000\" points=\"68.7413,-38.599 59.4039,-33.5924 63.5812,-43.3291 68.7413,-38.599\" stroke=\"#000000\"/>\n",
       "</g>\n",
       "<!-- CT&#45;&gt;TG -->\n",
       "<g class=\"edge\" id=\"edge4\">\n",
       "<title>CT-&gt;TG</title>\n",
       "<path d=\"M79.7064,-144.2022C81.1857,-134.9874 84.9803,-123.6134 89.7944,-113.6677\" fill=\"none\" stroke=\"#000000\"/>\n",
       "<polygon fill=\"#000000\" points=\"92.9758,-115.1438 94.6802,-104.6869 86.8268,-111.7986 92.9758,-115.1438\" stroke=\"#000000\"/>\n",
       "</g>\n",
       "<!-- CT&#45;&gt;TG -->\n",
       "<g class=\"edge\" id=\"edge7\">\n",
       "<title>CT-&gt;TG</title>\n",
       "<path d=\"M91.5378,-144.2022C94.4975,-136.0064 98.0739,-126.1024 101.3556,-117.0145\" fill=\"none\" stroke=\"#000000\"/>\n",
       "<polygon fill=\"#000000\" points=\"104.6533,-118.1874 104.7578,-107.593 98.0694,-115.8098 104.6533,-118.1874\" stroke=\"#000000\"/>\n",
       "</g>\n",
       "<!-- CT&#45;&gt;TG -->\n",
       "<g class=\"edge\" id=\"edge12\">\n",
       "<title>CT-&gt;TG</title>\n",
       "<path d=\"M101.4697,-147.4297C106.7068,-138.9515 111.3669,-127.9801 114.227,-117.9017\" fill=\"none\" stroke=\"#000000\"/>\n",
       "<polygon fill=\"#000000\" points=\"117.7049,-118.3909 116.5047,-107.8642 110.8784,-116.8418 117.7049,-118.3909\" stroke=\"#000000\"/>\n",
       "</g>\n",
       "<!-- TA -->\n",
       "<g class=\"node\" id=\"node7\">\n",
       "<title>TA</title>\n",
       "<ellipse cx=\"39.1109\" cy=\"-90\" fill=\"none\" rx=\"27\" ry=\"18\" stroke=\"#000000\"/>\n",
       "<text fill=\"#000000\" font-family=\"Times,serif\" font-size=\"14.00\" text-anchor=\"middle\" x=\"39.1109\" y=\"-86.3\">TA</text>\n",
       "</g>\n",
       "<!-- CT&#45;&gt;TA -->\n",
       "<g class=\"edge\" id=\"edge17\">\n",
       "<title>CT-&gt;TA</title>\n",
       "<path d=\"M74.4419,-145.3008C68.7523,-136.3952 61.6332,-125.2524 55.2792,-115.307\" fill=\"none\" stroke=\"#000000\"/>\n",
       "<polygon fill=\"#000000\" points=\"58.0553,-113.1513 49.722,-106.6087 52.1565,-116.92 58.0553,-113.1513\" stroke=\"#000000\"/>\n",
       "</g>\n",
       "<!-- GA&#45;&gt;AG -->\n",
       "<g class=\"edge\" id=\"edge9\">\n",
       "<title>GA-&gt;AG</title>\n",
       "<path d=\"M29.1054,-32.8465C19.5412,-42.8568 8.2759,-56.9465 3.1109,-72 -2.0817,-87.134 1.0525,-92.133 3.1109,-108 11.1972,-170.3349 33.7823,-240.7845 47.0435,-278.563\" fill=\"none\" stroke=\"#000000\"/>\n",
       "<polygon fill=\"#000000\" points=\"43.8653,-280.0715 50.5167,-288.3182 50.4598,-277.7236 43.8653,-280.0715\" stroke=\"#000000\"/>\n",
       "</g>\n",
       "<!-- TA&#45;&gt;AG -->\n",
       "<g class=\"edge\" id=\"edge18\">\n",
       "<title>TA-&gt;AG</title>\n",
       "<path d=\"M39.7203,-108.021C40.846,-137.9744 43.6509,-199.8731 49.1109,-252 49.9994,-260.4832 51.252,-269.6758 52.5028,-278.0306\" fill=\"none\" stroke=\"#000000\"/>\n",
       "<polygon fill=\"#000000\" points=\"49.0654,-278.7043 54.0587,-288.0487 55.9825,-277.63 49.0654,-278.7043\" stroke=\"#000000\"/>\n",
       "</g>\n",
       "<!-- AG&#45;&gt;GC -->\n",
       "<g class=\"edge\" id=\"edge2\">\n",
       "<title>AG-&gt;GC</title>\n",
       "<path d=\"M58.2241,-287.8314C60.7111,-279.2978 64.5438,-268.9758 68.6347,-259.6624\" fill=\"none\" stroke=\"#000000\"/>\n",
       "<polygon fill=\"#000000\" points=\"71.882,-260.9806 72.9457,-250.4393 65.5405,-258.0165 71.882,-260.9806\" stroke=\"#000000\"/>\n",
       "</g>\n",
       "<!-- AG&#45;&gt;GC -->\n",
       "<g class=\"edge\" id=\"edge10\">\n",
       "<title>AG-&gt;GC</title>\n",
       "<path d=\"M69.2253,-289.6621C73.3471,-281.4353 77.5922,-271.2325 80.8854,-261.8179\" fill=\"none\" stroke=\"#000000\"/>\n",
       "<polygon fill=\"#000000\" points=\"84.2996,-262.6339 84.0344,-252.0423 77.6368,-260.4875 84.2996,-262.6339\" stroke=\"#000000\"/>\n",
       "</g>\n",
       "</g>\n",
       "</svg>"
      ],
      "text/plain": [
       "<IPython.core.display.SVG object>"
      ]
     },
     "metadata": {},
     "output_type": "display_data"
    }
   ],
   "source": [
    "%dotstr visualize_de_bruijn(\"AAGCTGCTGAGCTGGGCTAG\", 3)"
   ]
  }
 ],
 "metadata": {
  "kernelspec": {
   "display_name": "Python 3",
   "language": "python",
   "name": "python3"
  },
  "language_info": {
   "codemirror_mode": {
    "name": "ipython",
    "version": 3
   },
   "file_extension": ".py",
   "mimetype": "text/x-python",
   "name": "python",
   "nbconvert_exporter": "python",
   "pygments_lexer": "ipython3",
   "version": "3.7.6"
  }
 },
 "nbformat": 4,
 "nbformat_minor": 4
}
