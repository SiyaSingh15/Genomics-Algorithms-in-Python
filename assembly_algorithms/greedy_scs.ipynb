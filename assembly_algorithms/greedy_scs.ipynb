{
 "cells": [
  {
   "cell_type": "code",
   "execution_count": 1,
   "metadata": {},
   "outputs": [],
   "source": [
    "# This function helps us figure out how to stitch two DNA reads (a and b) together.\n",
    "def overlap(a, b, min_length=3):\n",
    "    \"\"\" \n",
    "    Return the length of the longest suffix of 'a' that matches a prefix of 'b'.\n",
    "    \n",
    "    \"\"\"\n",
    "    \n",
    "    # start searching for an overlap at the beginning of read 'a'.\n",
    "    start = 0\n",
    "    \n",
    "    # This loop will keep running until we've either found the best possible overlap or we've run out of places to look in read 'a'.\n",
    "    while True:\n",
    "        # taking a small \"seed\" from the start of read 'b' and trying to find it in read 'a'.\n",
    "        start = a.find(b[:min_length], start)\n",
    "        \n",
    "        if start == -1:  #  it means the seed wasn't found in the rest of string 'a'.\n",
    "            # no overlap is possible. \n",
    "            return 0\n",
    "            \n",
    "        # If we found the seed, we need to verify it's a proper suffix/prefix match.\n",
    "        # We check if the end of 'a' matches the start of 'b'.\n",
    "        if b.startswith(a[start:]):\n",
    "            return len(a) - start  # gives length of the overlap \n",
    "            \n",
    "        # If it wasn't a suffix/prefix match we need to keep searching. \n",
    "        # We increment 'start' by 1 to look for the next possible occurrence of the seed.\n",
    "        start += 1\n"
   ]
  },
  {
   "cell_type": "code",
   "execution_count": 2,
   "metadata": {},
   "outputs": [],
   "source": [
    "import itertools # We need this to get all possible orderings of our reads.\n",
    "\n",
    "def scs(ss):\n",
    "    \"\"\" Finds the shortest common superstring for a list of strings. \"\"\"\n",
    "    shortest_sup = None # This will hold the best superstring we've found so far.\n",
    "    \n",
    "    # [brute-force] : We're going to try every possible permutation of the input strings.\n",
    "    for ssperm in itertools.permutations(ss):\n",
    "        # Start building a potential superstring with the first string in the current order.\n",
    "        sup = ssperm[0]\n",
    "\n",
    "        for i in range(len(ss)-1):\n",
    "            # Figure out how much the current string and the next one overlap with the overlap function.\n",
    "            olen = overlap(ssperm[i], ssperm[i+1], min_length=1)\n",
    "            \n",
    "            # Add the part of the next string that doesn't overlap, we stitch them together.\n",
    "            sup += ssperm[i+1][olen:]\n",
    "            \n",
    "        # check if it's the best superstring yet.\n",
    "        if shortest_sup is None or len(sup) < len(shortest_sup):\n",
    "            # If it's our first one, or shorter than our previous best, we have a new winner.\n",
    "            shortest_sup = sup\n",
    "   \n",
    "    return shortest_sup\n"
   ]
  },
  {
   "cell_type": "code",
   "execution_count": 3,
   "metadata": {},
   "outputs": [],
   "source": [
    "def pick_maximal_overlap(reads, k):\n",
    "    \"\"\"\n",
    "    Finds the best overlap between any two reads in a list.\n",
    "    The overlap has to be at least 'k' bases long.\n",
    "    \"\"\"\n",
    "    # These will hold the two reads that have the best overlap we've found.\n",
    "    reada, readb = None, None\n",
    "    # And this will store how long that best overlap is.\n",
    "    best_olen = 0\n",
    "    \n",
    "    # Check every possible pair of reads.\n",
    "    for a, b in itertools.permutations(reads, 2):\n",
    "        # Calculate the overlap in the pair.\n",
    "        olen = overlap(a, b, min_length=k)\n",
    "        \n",
    "        # If this overlap is the best one we've seen so far...\n",
    "        if olen > best_olen:\n",
    "            # ...then we'll remember this pair of reads and the overlap length.\n",
    "            reada, readb = a, b\n",
    "            best_olen = olen\n",
    "            \n",
    "    # After checking all the pairs, return the winning pair and their overlap length.\n",
    "    return reada, readb, best_olen\n"
   ]
  },
  {
   "cell_type": "code",
   "execution_count": 8,
   "metadata": {},
   "outputs": [],
   "source": [
    "def greedy_scs(reads, k):\n",
    "    \"\"\"\n",
    "    This is a \"greedy\" way to find the shortest common superstring.\n",
    "    It repeatedly finds the best overlap and merges the two reads.\n",
    "    \"\"\"\n",
    "    \n",
    "    # First, find the single best overlap in the entire set of reads.\n",
    "    read_a, read_b, olen = pick_maximal_overlap(reads, k)\n",
    "    \n",
    "    # Keep merging as long as we can find overlaps of at least length k.\n",
    "    while olen > 0:\n",
    "        # Once we have the best pair, remove them from our list of reads.\n",
    "        reads.remove(read_a)\n",
    "        reads.remove(read_b)\n",
    "        \n",
    "        # Append the non-overlapping part of read_b to read_a.\n",
    "        merged_read = read_a + read_b[olen:]\n",
    "        reads.append(merged_read)\n",
    "        \n",
    "        # Now, with our newly merged read in the list, find the *next* best overlap.\n",
    "        read_a, read_b, olen = pick_maximal_overlap(reads, k)\n",
    "        \n",
    "    # When no more overlaps can be found, join everything that's left into one final sequence.\n",
    "    # *If it worked perfectly, there should only be one string left*\n",
    "    return ''.join(reads)"
   ]
  },
  {
   "cell_type": "code",
   "execution_count": 12,
   "metadata": {},
   "outputs": [
    {
     "data": {
      "text/plain": [
       "'ACGTGCGCATGCGCGATAGGCTGGCGC'"
      ]
     },
     "execution_count": 12,
     "metadata": {},
     "output_type": "execute_result"
    }
   ],
   "source": [
    "greedy_scs(['ACGTGCGC', 'ATGCGCGAT', 'AGGCTGGCGC'], 2)"
   ]
  },
  {
   "cell_type": "code",
   "execution_count": 13,
   "metadata": {},
   "outputs": [
    {
     "data": {
      "text/plain": [
       "'ACGTGCGCATGCGCGATAGGCTGGCGC'"
      ]
     },
     "execution_count": 13,
     "metadata": {},
     "output_type": "execute_result"
    }
   ],
   "source": [
    "scs(['ACGTGCGC', 'ATGCGCGAT', 'AGGCTGGCGC'])"
   ]
  }
 ],
 "metadata": {
  "kernelspec": {
   "display_name": "Python 3",
   "language": "python",
   "name": "python3"
  },
  "language_info": {
   "codemirror_mode": {
    "name": "ipython",
    "version": 3
   },
   "file_extension": ".py",
   "mimetype": "text/x-python",
   "name": "python",
   "nbconvert_exporter": "python",
   "pygments_lexer": "ipython3",
   "version": "3.7.6"
  }
 },
 "nbformat": 4,
 "nbformat_minor": 4
}
