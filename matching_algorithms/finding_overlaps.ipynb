{
 "cells": [
  {
   "cell_type": "code",
   "execution_count": 1,
   "metadata": {},
   "outputs": [],
   "source": [
    "# This function helps us figure out how to stitch two DNA reads (a and b) together.\n",
    "def overlap(a, b, min_length=3):\n",
    "    \"\"\" \n",
    "    Return the length of the longest suffix of 'a' that matches a prefix of 'b'.\n",
    "    \n",
    "    \"\"\"\n",
    "    \n",
    "    # start searching for an overlap at the beginning of read 'a'.\n",
    "    start = 0\n",
    "    \n",
    "    # This loop will keep running until we've either found the best possible overlap or we've run out of places to look in read 'a'.\n",
    "    while True:\n",
    "        # taking a small \"seed\" from the start of read 'b' and trying to find it in read 'a'.\n",
    "        start = a.find(b[:min_length], start)\n",
    "        \n",
    "        if start == -1:  #  it means the seed wasn't found in the rest of string 'a'.\n",
    "            # no overlap is possible. \n",
    "            return 0\n",
    "            \n",
    "        # If we found the seed, we need to verify it's a proper suffix/prefix match.\n",
    "        # We check if the end of 'a' matches the start of 'b'.\n",
    "        if b.startswith(a[start:]):\n",
    "            return len(a) - start  # gives length of the overlap \n",
    "            \n",
    "        # If it wasn't a suffix/prefix match we need to keep searching. \n",
    "        # We increment 'start' by 1 to look for the next possible occurrence of the seed.\n",
    "        start += 1"
   ]
  },
  {
   "cell_type": "code",
   "execution_count": 3,
   "metadata": {},
   "outputs": [
    {
     "data": {
      "text/plain": [
       "3"
      ]
     },
     "execution_count": 3,
     "metadata": {},
     "output_type": "execute_result"
    }
   ],
   "source": [
    "overlap('TTACGT', 'CGTGTGC')"
   ]
  },
  {
   "cell_type": "code",
   "execution_count": 14,
   "metadata": {},
   "outputs": [],
   "source": [
    "import itertools\n",
    "from itertools import permutations\n",
    "\n",
    "# This function finds all possible overlaps between reads.\n",
    "def naive_overlap_map(reads, k):\n",
    "    olaps = {}\n",
    "    # Look at every possible pair of reads.\n",
    "    for a, b in itertools.permutations(reads, 2):\n",
    "        # Calculate the overlap length.\n",
    "        olen = overlap(a, b, min_length=k)\n",
    "        # If there's a real overlap...\n",
    "        if olen > 0:\n",
    "            # ...store it in our dictionary.\n",
    "            olaps[(a, b)] = olen\n",
    "    return olaps"
   ]
  },
  {
   "cell_type": "code",
   "execution_count": 15,
   "metadata": {},
   "outputs": [
    {
     "name": "stdout",
     "output_type": "stream",
     "text": [
      "{('ACGGATC', 'GATCAAGT'): 4, ('TTCACGGA', 'ACGGATC'): 5}\n"
     ]
    }
   ],
   "source": [
    "reads = ['ACGGATC', 'GATCAAGT', 'TTCACGGA']\n",
    "print(naive_overlap_map(reads, 3))"
   ]
  }
 ],
 "metadata": {
  "kernelspec": {
   "display_name": "Python 3",
   "language": "python",
   "name": "python3"
  },
  "language_info": {
   "codemirror_mode": {
    "name": "ipython",
    "version": 3
   },
   "file_extension": ".py",
   "mimetype": "text/x-python",
   "name": "python",
   "nbconvert_exporter": "python",
   "pygments_lexer": "ipython3",
   "version": "3.7.6"
  }
 },
 "nbformat": 4,
 "nbformat_minor": 4
}
