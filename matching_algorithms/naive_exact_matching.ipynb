{
 "cells": [
  {
   "cell_type": "code",
   "execution_count": 1,
   "metadata": {},
   "outputs": [
    {
     "name": "stdout",
     "output_type": "stream",
     "text": [
      "--2025-08-04 10:45:39--  http://d28rh4a8wq0iu5.cloudfront.net/ads1/data/phix.fa\n",
      "Resolving d28rh4a8wq0iu5.cloudfront.net (d28rh4a8wq0iu5.cloudfront.net)... 3.162.130.139, 3.162.130.139, 3.162.130.139, ...\n",
      "Connecting to d28rh4a8wq0iu5.cloudfront.net (d28rh4a8wq0iu5.cloudfront.net)|3.162.130.139|:80... connected.\n",
      "HTTP request sent, awaiting response... 200 OK\n",
      "Length: 5528 (5.4K) [application/octet-stream]\n",
      "Saving to: ‘phix.fa.1’\n",
      "\n",
      "phix.fa.1           100%[===================>]   5.40K  --.-KB/s    in 0s      \n",
      "\n",
      "2025-08-04 10:45:39 (452 MB/s) - ‘phix.fa.1’ saved [5528/5528]\n",
      "\n"
     ]
    }
   ],
   "source": [
    "!wget http://d28rh4a8wq0iu5.cloudfront.net/ads1/data/phix.fa"
   ]
  },
  {
   "cell_type": "code",
   "execution_count": 2,
   "metadata": {},
   "outputs": [],
   "source": [
    "# This function is for reading a genome from a FASTA file.\n",
    "def readGenome(filename):\n",
    "    genome = ''\n",
    "    # Open the file and read it line by line.\n",
    "    with open(filename, 'r') as f:\n",
    "        for line in f:\n",
    "            # The header line in a FASTA file starts with '>', we want to ignore it.\n",
    "            if not line.startswith('>'):\n",
    "                # Add the sequence line to our genome string, removing any trailing whitespace.\n",
    "                genome += line.rstrip()\n",
    "    return genome"
   ]
  },
  {
   "cell_type": "code",
   "execution_count": 3,
   "metadata": {},
   "outputs": [],
   "source": [
    "genome = readGenome('phix.fa.1')"
   ]
  },
  {
   "cell_type": "code",
   "execution_count": 4,
   "metadata": {},
   "outputs": [],
   "source": [
    "# This is a simple, \"naive\" algorithm for finding a pattern 'p' within a text 't'.\n",
    "def naive(p, t):\n",
    "    # This list will store the starting positions of every match we find.\n",
    "    occurrences = []\n",
    "    # Loop through the text, but stop when the remaining text is shorter than the pattern.\n",
    "    for i in range(len(t) - len(p) + 1):\n",
    "        match = True # Assume we have a match until proven otherwise.\n",
    "        # Loop through the pattern to check each character.\n",
    "        for j in range(len(p)):\n",
    "            # If a character doesn't match...\n",
    "            if t[i+j] != p[j]:\n",
    "                # ...it's not a match.\n",
    "                match = False\n",
    "                break # No need to check the rest of the pattern, so we break this inner loop.\n",
    "        # If the 'match' variable is still True after the inner loop, we found a full match\n",
    "        if match:\n",
    "          # Record the starting position of the match.\n",
    "          occurrences.append(i)\n",
    "    return occurrences"
   ]
  },
  {
   "cell_type": "code",
   "execution_count": 5,
   "metadata": {},
   "outputs": [
    {
     "data": {
      "text/plain": [
       "[0, 5, 9]"
      ]
     },
     "execution_count": 5,
     "metadata": {},
     "output_type": "execute_result"
    }
   ],
   "source": [
    "t = 'AGCTTAGATAGC'\n",
    "p = 'AG'\n",
    "naive(p, t)"
   ]
  },
  {
   "cell_type": "code",
   "execution_count": 8,
   "metadata": {},
   "outputs": [],
   "source": [
    "# This function simulates a DNA sequencer.\n",
    "import random\n",
    "def generateReads(genome, numReads, readLen):\n",
    "    ''' Generate reads from random positions in the given genome. '''\n",
    "    reads = []\n",
    "    # Do this 'numReads' times.\n",
    "    for _ in range(numReads):\n",
    "        # Pick a random starting point in the genome.\n",
    "        start = random.randint(0, len(genome)-readLen)\n",
    "        # Cut out a piece of the genome of length 'readLen'.\n",
    "        reads.append(genome[start : start+readLen])\n",
    "    return reads"
   ]
  },
  {
   "cell_type": "code",
   "execution_count": 10,
   "metadata": {},
   "outputs": [
    {
     "name": "stdout",
     "output_type": "stream",
     "text": [
      "100 / 100 reads matched the genome exactly!\n"
     ]
    }
   ],
   "source": [
    "# EXAMPLE\n",
    "\n",
    "# simulate generating 100 reads, each 100 bases long.\n",
    "reads = generateReads(genome, 100, 100)\n",
    "# Now, let's see how many of our simulated reads we can find in the original genome.\n",
    "numMatched = 0\n",
    "for r in reads:\n",
    " # Use our naive search function to find the read.\n",
    "     matches = naive(r, genome)\n",
    "     # If the list of matches is not empty, it means we found it.\n",
    "     if len(matches) > 0:\n",
    "         numMatched += 1\n",
    "\n",
    "print('%d / %d reads matched the genome exactly!' % (numMatched, len(reads)))"
   ]
  },
  {
   "cell_type": "code",
   "execution_count": 11,
   "metadata": {},
   "outputs": [
    {
     "name": "stdout",
     "output_type": "stream",
     "text": [
      "--2025-08-04 10:53:34--  http://d28rh4a8wq0iu5.cloudfront.net/ads1/data/ERR266411_1.first1000.fastq\n",
      "Resolving d28rh4a8wq0iu5.cloudfront.net (d28rh4a8wq0iu5.cloudfront.net)... 3.162.130.139, 3.162.130.139, 3.162.130.139, ...\n",
      "Connecting to d28rh4a8wq0iu5.cloudfront.net (d28rh4a8wq0iu5.cloudfront.net)|3.162.130.139|:80... connected.\n",
      "HTTP request sent, awaiting response... 200 OK\n",
      "Length: 254384 (248K) [audio/mpeg]\n",
      "Saving to: ‘ERR266411_1.first1000.fastq.5’\n",
      "\n",
      "ERR266411_1.first10 100%[===================>] 248.42K  --.-KB/s    in 0.001s  \n",
      "\n",
      "2025-08-04 10:53:34 (426 MB/s) - ‘ERR266411_1.first1000.fastq.5’ saved [254384/254384]\n",
      "\n"
     ]
    }
   ],
   "source": [
    "!wget http://d28rh4a8wq0iu5.cloudfront.net/ads1/data/ERR266411_1.first1000.fastq"
   ]
  },
  {
   "cell_type": "code",
   "execution_count": 12,
   "metadata": {},
   "outputs": [],
   "source": [
    "# This function reads sequences from a FASTQ file.\n",
    "def readFastq(filename):\n",
    "    sequences = []\n",
    "    with open(filename) as fh:\n",
    "        # FASTQ files have 4 lines per sequence, so we loop through the file.\n",
    "        while True:\n",
    "            fh.readline() # 1. Skip the name line which starts with @\n",
    "            seq = fh.readline().rstrip() # 2. This is the actual DNA sequence\n",
    "            fh.readline() # 3. Skip the placeholder line, which just has a +\n",
    "            fh.readline() # 4. Skip the base quality score line\n",
    "            \n",
    "            # If the sequence line is empty, we've reached the end of the file.\n",
    "            if len(seq) == 0:\n",
    "                break\n",
    "            \n",
    "            # Add the sequence to our list.\n",
    "            sequences.append(seq)\n",
    "    return sequences"
   ]
  },
  {
   "cell_type": "code",
   "execution_count": 14,
   "metadata": {},
   "outputs": [
    {
     "name": "stdout",
     "output_type": "stream",
     "text": [
      "Counter({'T': 30531, 'A': 28426, 'C': 21890, 'G': 19147, 'N': 6})\n"
     ]
    }
   ],
   "source": [
    "# EXAMPLE\n",
    "\n",
    "import collections\n",
    "# Read the first 1000 reads from the specified FASTQ file.\n",
    "phix_reads = readFastq('ERR266411_1.first1000.fastq')\n",
    "\n",
    "# Create a Counter object to store the frequency of each base.\n",
    "count = collections.Counter()\n",
    "# Loop through every read we just loaded.\n",
    "for read in phix_reads:\n",
    "     # Update the counter with all the bases in the current read.\n",
    "     count.update(read)\n",
    "#\n",
    "# Print the final counts of A, C, G, T, and any other characters (like N).\n",
    "print(count)\n"
   ]
  },
  {
   "cell_type": "code",
   "execution_count": 17,
   "metadata": {},
   "outputs": [
    {
     "name": "stdout",
     "output_type": "stream",
     "text": [
      "7 / 1000 reads matched the genome exactly!\n"
     ]
    }
   ],
   "source": [
    "# EXAMPLE\n",
    "\n",
    "# Let's count how many of our reads appear perfectly in the reference genome.\n",
    "numMatched = 0\n",
    "n = 0\n",
    "for r in phix_reads:\n",
    "    # Use our naive search function to find the read in the genome.\n",
    "    matches = naive(r, genome)\n",
    "    n += 1\n",
    "    # If the list of matches is not empty, it means we found it.\n",
    "    if len(matches) > 0:\n",
    "        numMatched += 1\n",
    "print('%d / %d reads matched the genome exactly!' % (numMatched, n))"
   ]
  },
  {
   "cell_type": "code",
   "execution_count": 18,
   "metadata": {},
   "outputs": [
    {
     "name": "stdout",
     "output_type": "stream",
     "text": [
      "459 / 1000 reads matched the genome exactly!\n"
     ]
    }
   ],
   "source": [
    "# Now let's try matching just the first 30 bases of each read\n",
    "numMatched = 0\n",
    "n = 0\n",
    "for r in phix_reads:\n",
    "    r = r[:30]  # just taking the first 30 bases\n",
    "    matches = naive(r, genome)\n",
    "    n += 1\n",
    "    if len(matches) > 0:\n",
    "        numMatched += 1\n",
    "print('%d / %d reads matched the genome exactly!' % (numMatched, n))"
   ]
  },
  {
   "cell_type": "code",
   "execution_count": 19,
   "metadata": {},
   "outputs": [],
   "source": [
    "def reverseComplement(s):\n",
    "    complement = {'A': 'T', 'C': 'G', 'G': 'C', 'T': 'A', 'N': 'N'}\n",
    "    t = ''\n",
    "    for base in s:\n",
    "        t = complement[base] + t\n",
    "    return t"
   ]
  },
  {
   "cell_type": "code",
   "execution_count": 20,
   "metadata": {},
   "outputs": [
    {
     "name": "stdout",
     "output_type": "stream",
     "text": [
      "932 / 1000 reads matched the genome exactly!\n"
     ]
    }
   ],
   "source": [
    "numMatched = 0\n",
    "n = 0\n",
    "for r in phix_reads:\n",
    "    r = r[:30]  # just taking the first 30 bases\n",
    "    matches = naive(r, genome)\n",
    "    matches.extend(naive(reverseComplement(r), genome))\n",
    "    n += 1\n",
    "    if len(matches) > 0:\n",
    "        numMatched += 1\n",
    "print('%d / %d reads matched the genome exactly!' % (numMatched, n))"
   ]
  }
 ],
 "metadata": {
  "kernelspec": {
   "display_name": "Python 3",
   "language": "python",
   "name": "python3"
  },
  "language_info": {
   "codemirror_mode": {
    "name": "ipython",
    "version": 3
   },
   "file_extension": ".py",
   "mimetype": "text/x-python",
   "name": "python",
   "nbconvert_exporter": "python",
   "pygments_lexer": "ipython3",
   "version": "3.7.6"
  }
 },
 "nbformat": 4,
 "nbformat_minor": 4
}
