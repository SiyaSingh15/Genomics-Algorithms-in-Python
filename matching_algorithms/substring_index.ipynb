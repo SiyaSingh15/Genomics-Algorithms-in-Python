{
 "cells": [
  {
   "cell_type": "code",
   "execution_count": 1,
   "metadata": {},
   "outputs": [],
   "source": [
    "import bisect\n",
    "import sys"
   ]
  },
  {
   "cell_type": "code",
   "execution_count": 2,
   "metadata": {},
   "outputs": [],
   "source": [
    "class Index(object):\n",
    "    def __init__(self, t, k):\n",
    "        ''' Create an index from all substrings of t with length k. '''\n",
    "        self.k = k  # This is the length of the k-mers we'll use for our index.\n",
    "        self.index = []\n",
    "        # We slide a window of size 'k' across the text 't'.\n",
    "        for i in range(len(t) - k + 1):\n",
    "            # For each k-mer, we store the k-mer itself and its starting position (offset).\n",
    "            self.index.append((t[i:i+k], i))\n",
    "        # We sort the list. This is crucial for fast searching later.\n",
    "        self.index.sort()\n",
    "    \n",
    "    def query(self, p):\n",
    "        ''' Find all occurrences of the first k-mer of a pattern p in the index. '''\n",
    "        # Take the first k characters of the pattern to look up in our index.\n",
    "        kmer = p[:self.k]\n",
    "        # Use binary search (bisect_left) to find where that k-mer would be in our sorted list.\n",
    "        i = bisect.bisect_left(self.index, (kmer, -1))\n",
    "        hits = []\n",
    "        # After finding the first hit, check for any other identical k-mers right after it.\n",
    "        while i < len(self.index):\n",
    "            # If the k-mer at this position doesn't match, we're done.\n",
    "            if self.index[i][0] != kmer:\n",
    "                break\n",
    "            # Otherwise, it's a hit. Record the offset.\n",
    "            hits.append(self.index[i][1])\n",
    "            i += 1\n",
    "        return hits\n"
   ]
  },
  {
   "cell_type": "code",
   "execution_count": 6,
   "metadata": {},
   "outputs": [],
   "source": [
    "# This function uses the index to find exact matches for a pattern.\n",
    "def queryIndex(p, t, index):\n",
    "    k = index.k\n",
    "    offsets = []\n",
    "    # Get all the possible locations from the index (the \"hits\").\n",
    "    for i in index.query(p):\n",
    "        # The index only matches the first k bases. We have to verify the rest of the pattern.\n",
    "        if p[k:] == t[i+k:i+len(p)]:\n",
    "            # If the rest of the pattern matches too, it's a confirmed hit!\n",
    "            offsets.append(i)\n",
    "    return offsets"
   ]
  },
  {
   "cell_type": "code",
   "execution_count": 7,
   "metadata": {},
   "outputs": [],
   "source": [
    "t = 'ACTTGGAGATCTTTGAGGCTAGGTATTCGGGATCGAAGCTCATTTCGGGGATCGATTACGATATGGTGGGTATTCGGGA'\n",
    "p = 'GGTATTCGGGA'"
   ]
  },
  {
   "cell_type": "code",
   "execution_count": 8,
   "metadata": {},
   "outputs": [
    {
     "name": "stdout",
     "output_type": "stream",
     "text": [
      "[21, 68]\n"
     ]
    }
   ],
   "source": [
    "index = Index(t, 4)\n",
    "print(queryIndex(p, t, index))"
   ]
  }
 ],
 "metadata": {
  "kernelspec": {
   "display_name": "Python 3",
   "language": "python",
   "name": "python3"
  },
  "language_info": {
   "codemirror_mode": {
    "name": "ipython",
    "version": 3
   },
   "file_extension": ".py",
   "mimetype": "text/x-python",
   "name": "python",
   "nbconvert_exporter": "python",
   "pygments_lexer": "ipython3",
   "version": "3.7.6"
  }
 },
 "nbformat": 4,
 "nbformat_minor": 4
}
