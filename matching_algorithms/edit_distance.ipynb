{
 "cells": [
  {
   "cell_type": "code",
   "execution_count": 3,
   "metadata": {},
   "outputs": [],
   "source": [
    "# Edit distance = minimum number of edits (insertions, deletions, substitutions) to change one string into the other.\n",
    "def editDistRecursive(x, y):\n",
    "    '''This function calculates the edit distance between two strings.'''\n",
    "    # This recursive implementation is very slow because it re-computes the same subproblems many times.\n",
    "    # Base case: if one string is empty, the distance is just the length of the other string.\n",
    "    if len(x) == 0:\n",
    "        return len(y)\n",
    "    elif len(y) == 0:\n",
    "        return len(x)\n",
    "    else:\n",
    "        # Case 1: Deletion from x (penalty = 1)\n",
    "        distHor = editDistRecursive(x[:-1], y) + 1\n",
    "        # Case 2: Insertion into x (penalty = 1)\n",
    "        distVer = editDistRecursive(x, y[:-1]) + 1\n",
    "        # Case 3: Substitution or match\n",
    "        if x[-1] == y[-1]:\n",
    "            # If the last characters match, the cost is 0.\n",
    "            distDiag = editDistRecursive(x[:-1], y[:-1])\n",
    "        else:\n",
    "            # If they don't match, the substitution cost is 1.\n",
    "            distDiag = editDistRecursive(x[:-1], y[:-1]) + 1\n",
    "        # Return the minimum of the three possible operations.\n",
    "        return min(distHor, distVer, distDiag)"
   ]
  },
  {
   "cell_type": "code",
   "execution_count": 4,
   "metadata": {},
   "outputs": [],
   "source": [
    "# This function calculates edit distance using dynamic programming. It's much faster.\n",
    "def editDistance(x, y):\n",
    "    # Create a distance matrix (a grid) to store solutions to subproblems.\n",
    "    D = []\n",
    "    for i in range(len(x)+1):\n",
    "        D.append([0]*(len(y)+1))\n",
    "    \n",
    "    # Initialize the first row and column. The distance from an empty string to a string of length 'i' is just 'i'.\n",
    "    for i in range(len(x)+1):\n",
    "        D[i][0] = i\n",
    "    for i in range(len(y)+1):\n",
    "        D[0][i] = i\n",
    "    \n",
    "    # Fill in the rest of the matrix.\n",
    "    for i in range(1, len(x)+1):\n",
    "        for j in range(1, len(y)+1):\n",
    "            # Calculate the cost of the three possible operations.\n",
    "            distHor = D[i][j-1] + 1\n",
    "            distVer = D[i-1][j] + 1\n",
    "            if x[i-1] == y[j-1]:\n",
    "                distDiag = D[i-1][j-1] # No penalty if characters are the same\n",
    "            else:\n",
    "                distDiag = D[i-1][j-1] + 1 # penalty of 1 for a substitution\n",
    "            \n",
    "            # The value in each cell is the minimum of the three possibilities.\n",
    "            D[i][j] = min(distHor, distVer, distDiag)\n",
    "            \n",
    "    # The final edit distance is the value in the bottom-right corner.\n",
    "    return D[-1][-1]\n"
   ]
  },
  {
   "cell_type": "code",
   "execution_count": 5,
   "metadata": {},
   "outputs": [
    {
     "name": "stdout",
     "output_type": "stream",
     "text": [
      "CPU times: user 288 ms, sys: 0 ns, total: 288 ms\n",
      "Wall time: 503 ms\n"
     ]
    },
    {
     "data": {
      "text/plain": [
       "4"
      ]
     },
     "execution_count": 5,
     "metadata": {},
     "output_type": "execute_result"
    }
   ],
   "source": [
    "%%time\n",
    "x = \"AGTCGCGCTG\"\n",
    "y = \"ATCAGCT\"\n",
    "editDistRecursive(x, y)"
   ]
  },
  {
   "cell_type": "code",
   "execution_count": 6,
   "metadata": {},
   "outputs": [
    {
     "name": "stdout",
     "output_type": "stream",
     "text": [
      "CPU times: user 72 µs, sys: 0 ns, total: 72 µs\n",
      "Wall time: 74.1 µs\n"
     ]
    },
    {
     "data": {
      "text/plain": [
       "4"
      ]
     },
     "execution_count": 6,
     "metadata": {},
     "output_type": "execute_result"
    }
   ],
   "source": [
    "%%time\n",
    "x = \"AGTCGCGCTG\"\n",
    "y = \"ATCAGCT\"\n",
    "editDistance(x, y)"
   ]
  }
 ],
 "metadata": {
  "kernelspec": {
   "display_name": "Python 3",
   "language": "python",
   "name": "python3"
  },
  "language_info": {
   "codemirror_mode": {
    "name": "ipython",
    "version": 3
   },
   "file_extension": ".py",
   "mimetype": "text/x-python",
   "name": "python",
   "nbconvert_exporter": "python",
   "pygments_lexer": "ipython3",
   "version": "3.7.6"
  }
 },
 "nbformat": 4,
 "nbformat_minor": 4
}
