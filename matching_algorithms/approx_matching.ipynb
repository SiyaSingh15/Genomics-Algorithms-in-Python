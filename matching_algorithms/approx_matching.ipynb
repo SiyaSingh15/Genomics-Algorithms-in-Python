{
 "cells": [
  {
   "cell_type": "code",
   "execution_count": 4,
   "metadata": {},
   "outputs": [
    {
     "name": "stdout",
     "output_type": "stream",
     "text": [
      "Collecting nbimporter\n",
      "  Downloading nbimporter-0.3.4-py3-none-any.whl (4.9 kB)\n",
      "Installing collected packages: nbimporter\n",
      "Successfully installed nbimporter-0.3.4\n",
      "\u001b[33mWARNING: You are using pip version 21.2.4; however, version 24.0 is available.\n",
      "You should consider upgrading via the '/opt/conda/bin/python3 -m pip install --upgrade pip' command.\u001b[0m\n"
     ]
    }
   ],
   "source": [
    "!pip install nbimporter"
   ]
  },
  {
   "cell_type": "code",
   "execution_count": 5,
   "metadata": {},
   "outputs": [],
   "source": [
    "import nbimporter\n",
    "from boyer_moore import *"
   ]
  },
  {
   "cell_type": "code",
   "execution_count": 6,
   "metadata": {},
   "outputs": [],
   "source": [
    "def approximate_match(p, t, n):\n",
    "    '''This function finds approximate matches of a pattern in a text, allowing for 'n' mismatches.'''\n",
    "    # Divide the pattern into n+1 segments. At least one must match perfectly.\n",
    "    segment_length = int(round(len(p) / (n+1)))\n",
    "    all_matches = set() # Use a set to avoid storing duplicate match positions.\n",
    "    # For each segment of the pattern...\n",
    "    for i in range(n+1):\n",
    "        # Define the start and end of the current segment.\n",
    "        start = i*segment_length\n",
    "        end = min((i+1)*segment_length, len(p))\n",
    "        # Pre-process this segment for a fast Boyer-Moore search.\n",
    "        p_bm = BoyerMoore(p[start:end], alphabet='ACGT')\n",
    "        # Find all exact matches of this segment in the text.\n",
    "        matches = boyer_moore(p[start:end], p_bm, t)\n",
    "        \n",
    "        # For each place the segment matched, check if the whole pattern matches with <= n mismatches.\n",
    "        for m in matches:\n",
    "            # Check if the full pattern would fit within the text boundaries.\n",
    "            if m < start or m-start+len(p) > len(t):\n",
    "                continue\n",
    "            \n",
    "            mismatches = 0\n",
    "            # Compare the part of the pattern *before* the matched segment.\n",
    "            for j in range(0, start):\n",
    "                if not p[j] == t[m-start+j]:\n",
    "                    mismatches += 1\n",
    "            # Compare the part of the pattern *after* the matched segment.\n",
    "            for j in range(end, len(p)):\n",
    "                if not p[j] == t[m-start+j]:\n",
    "                    mismatches += 1\n",
    "            \n",
    "            # If the total number of mismatches is within our limit...\n",
    "            if mismatches <= n:\n",
    "                # it's a valid approximate match. Record the starting position.\n",
    "                all_matches.add(m - start)\n",
    "    return list(all_matches)"
   ]
  },
  {
   "cell_type": "code",
   "execution_count": 7,
   "metadata": {},
   "outputs": [
    {
     "name": "stdout",
     "output_type": "stream",
     "text": [
      "[0, 5]\n"
     ]
    }
   ],
   "source": [
    "p = 'AACTTG'\n",
    "t = 'CACTTAATTTG'\n",
    "print(approximate_match(p, t, 2))"
   ]
  }
 ],
 "metadata": {
  "kernelspec": {
   "display_name": "Python 3",
   "language": "python",
   "name": "python3"
  },
  "language_info": {
   "codemirror_mode": {
    "name": "ipython",
    "version": 3
   },
   "file_extension": ".py",
   "mimetype": "text/x-python",
   "name": "python",
   "nbconvert_exporter": "python",
   "pygments_lexer": "ipython3",
   "version": "3.7.6"
  }
 },
 "nbformat": 4,
 "nbformat_minor": 4
}
